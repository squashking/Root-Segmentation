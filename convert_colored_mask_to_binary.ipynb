{
  "nbformat": 4,
  "nbformat_minor": 0,
  "metadata": {
    "colab": {
      "provenance": []
    },
    "kernelspec": {
      "name": "python3",
      "display_name": "Python 3"
    },
    "language_info": {
      "name": "python"
    }
  },
  "cells": [
    {
      "cell_type": "code",
      "execution_count": null,
      "metadata": {
        "id": "xyhfdFnL6LsR"
      },
      "outputs": [],
      "source": [
        "from PIL import Image\n",
        "import numpy as np\n",
        "\n",
        "# 读取图像\n",
        "image_path = \"IMG_7200_to be converted.png\"  # 你的原图路径\n",
        "img = Image.open(image_path).convert(\"RGB\")\n",
        "\n",
        "# 转换成 NumPy 数组\n",
        "img_np = np.array(img)\n",
        "\n",
        "# 拆分通道\n",
        "blue_channel = img_np[:, :, 2].astype(float)\n",
        "red_channel = img_np[:, :, 0].astype(float)\n",
        "green_channel = img_np[:, :, 1].astype(float)\n",
        "\n",
        "# 条件：蓝色显著大于红、绿（这里我设了阈值 1.5 倍）\n",
        "mask = (blue_channel > 100) & (blue_channel > red_channel * 1.5) & (blue_channel > green_channel * 1.5)\n",
        "\n",
        "# 生成二值化 mask\n",
        "binary_mask = np.zeros_like(img_np)\n",
        "binary_mask[mask] = [255, 255, 255]\n",
        "\n",
        "# 保存结果\n",
        "mask_img = Image.fromarray(binary_mask.astype(np.uint8))\n",
        "mask_img.save(\"extracted_mask.png\")\n",
        "\n",
        "print(\"Mask 提取完成 -> extracted_mask.png\")\n"
      ]
    }
  ]
}