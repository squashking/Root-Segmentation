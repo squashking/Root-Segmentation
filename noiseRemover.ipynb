{
 "cells": [
  {
   "cell_type": "code",
   "execution_count": null,
   "id": "initial_id",
   "metadata": {
    "collapsed": true
   },
   "outputs": [],
   "source": [
    "import cv2\n",
    "import numpy as np\n",
    "import matplotlib.pyplot as plt\n",
    "\n",
    "# === 1. 读取二值图像 ===\n",
    "img = cv2.imread(\"IMG_7177_processed.png\", cv2.IMREAD_GRAYSCALE)\n",
    "\n",
    "# 确保是纯二值（必要时再加阈值）\n",
    "_, binary = cv2.threshold(img, 127, 255, cv2.THRESH_BINARY)\n",
    "\n",
    "# === 2. 连通域分析，去除小颗粒 ===\n",
    "# 获取连通区域信息\n",
    "num_labels, labels, stats, _ = cv2.connectedComponentsWithStats(binary, connectivity=8)\n",
    "\n",
    "# 创建输出图像（全黑）\n",
    "filtered = np.zeros_like(binary)\n",
    "\n",
    "# 设置最小面积阈值，单位是像素（根据分辨率调整）\n",
    "min_area = 150  # 你可以试试 50 ~ 500 看最佳效果\n",
    "\n",
    "# 遍历每个连通区域，保留大于阈值的\n",
    "for i in range(1, num_labels):  # 从1开始跳过背景\n",
    "    area = stats[i, cv2.CC_STAT_AREA]\n",
    "    if area >= min_area:\n",
    "        filtered[labels == i] = 255\n",
    "\n",
    "# === 3. 保存结果 ===\n",
    "cv2.imwrite(\"root_mask_filtered.png\", filtered)\n",
    "\n",
    "# === 4. 可视化比较 ===\n",
    "plt.figure(figsize=(12, 6))\n",
    "plt.subplot(1, 2, 1)\n",
    "plt.imshow(binary, cmap='gray')\n",
    "plt.title(\"Before: Original with Particles\")\n",
    "plt.axis('off')\n",
    "\n",
    "plt.subplot(1, 2, 2)\n",
    "plt.imshow(filtered, cmap='gray')\n",
    "plt.title(\"After: Area-based Filtering\")\n",
    "plt.axis('off')\n",
    "\n",
    "plt.tight_layout()\n",
    "plt.show()"
   ]
  }
 ],
 "metadata": {
  "kernelspec": {
   "display_name": "Python 3",
   "language": "python",
   "name": "python3"
  },
  "language_info": {
   "codemirror_mode": {
    "name": "ipython",
    "version": 2
   },
   "file_extension": ".py",
   "mimetype": "text/x-python",
   "name": "python",
   "nbconvert_exporter": "python",
   "pygments_lexer": "ipython2",
   "version": "2.7.6"
  }
 },
 "nbformat": 4,
 "nbformat_minor": 5
}
